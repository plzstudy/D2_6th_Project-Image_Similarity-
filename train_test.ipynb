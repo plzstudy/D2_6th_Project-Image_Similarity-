{
  "nbformat": 4,
  "nbformat_minor": 0,
  "metadata": {
    "colab": {
      "name": "train_test.ipynb",
      "version": "0.3.2",
      "provenance": [],
      "collapsed_sections": []
    },
    "kernelspec": {
      "name": "python3",
      "display_name": "Python 3"
    },
    "accelerator": "GPU"
  },
  "cells": [
    {
      "metadata": {
        "id": "yHyJsyG8mbK5",
        "colab_type": "code",
        "colab": {}
      },
      "cell_type": "code",
      "source": [
        "# Train and Test ( Team. NMSP )\n",
        "\n",
        "import numpy as np\n",
        "import tensorflow as tf\n",
        "import matplotlib.pyplot as plt"
      ],
      "execution_count": 0,
      "outputs": []
    },
    {
      "metadata": {
        "id": "4Yz7Yid_mcz3",
        "colab_type": "code",
        "colab": {}
      },
      "cell_type": "code",
      "source": [
        "# 배치 사이즈를 결정하기 위한 함수\n",
        "def next_batch(num, data, labels):\n",
        "  idx = np.arange(0 , len(data))\n",
        "  np.random.shuffle(idx)\n",
        "  idx = idx[:num]\n",
        "  data_shuffle = [data[i] for i in idx]\n",
        "  labels_shuffle = [labels[i] for i in idx]\n",
        "\n",
        "  return np.asarray(data_shuffle), np.asarray(labels_shuffle)"
      ],
      "execution_count": 0,
      "outputs": []
    },
    {
      "metadata": {
        "id": "MbTMprlEmeWk",
        "colab_type": "code",
        "outputId": "c537e497-17fc-4a78-9b12-e9d25acb79ae",
        "colab": {
          "base_uri": "https://localhost:8080/",
          "height": 34
        }
      },
      "cell_type": "code",
      "source": [
        "# 전처리 한 데이터를 불러온다.\n",
        "X_set=np.load('entire_data.npy')\n",
        "y_set=np.load('entire_label.npy')\n",
        "\n",
        "X_set.shape, y_set.shape"
      ],
      "execution_count": 18,
      "outputs": [
        {
          "output_type": "execute_result",
          "data": {
            "text/plain": [
              "((10618, 32, 32, 3), (10618, 1))"
            ]
          },
          "metadata": {
            "tags": []
          },
          "execution_count": 18
        }
      ]
    },
    {
      "metadata": {
        "id": "qE_PhqatmfTd",
        "colab_type": "code",
        "colab": {}
      },
      "cell_type": "code",
      "source": [
        "idx = np.arange(0 , len(y_set)) # Training Set, Validation Set 으로 나누기 위해 랜덤하게 나눔.\n",
        "np.random.shuffle(idx)\n",
        "\n",
        "X_set_shuffle=np.asarray([X_set[i] for i in idx])\n",
        "y_set_shuffle=np.asarray([y_set[i] for i in idx])\n",
        "\n",
        "\n",
        "X_size=X_set.shape[0]\n",
        "test_size=int(X_size*0.2)\n",
        "\n",
        "\n",
        "X_train=X_set_shuffle[test_size:]\n",
        "X_test=X_set_shuffle[:test_size]\n",
        "\n",
        "y_train=y_set_shuffle[test_size:]\n",
        "y_test=y_set_shuffle[:test_size]\n",
        "\n",
        "X_train.shape, y_train.shape, X_test.shape, y_test.shape\n",
        "\n",
        "\n",
        "np.save(\"test_data.npy\",X_test)\n",
        "np.save(\"test_label.npy\",y_test)"
      ],
      "execution_count": 0,
      "outputs": []
    },
    {
      "metadata": {
        "id": "rDbUp71TmgXN",
        "colab_type": "code",
        "colab": {}
      },
      "cell_type": "code",
      "source": [
        "training_epochs = 10000 # 학습횟수\n",
        "learning_rate = 1e-3 # 학습률"
      ],
      "execution_count": 0,
      "outputs": []
    },
    {
      "metadata": {
        "id": "8obHYkcFmg1E",
        "colab_type": "code",
        "colab": {}
      },
      "cell_type": "code",
      "source": [
        "g1=tf.Graph() # 모델 생성하기.\n",
        "\n",
        "with g1.as_default():\n",
        "  X=tf.placeholder(tf.float32,[None,32,32,3])\n",
        "  Y=tf.placeholder(tf.float32,[None,153])\n",
        "  \n",
        "  keep_prob=tf.placeholder(tf.float32)\n",
        "  y_train_one_hot = tf.squeeze(tf.one_hot(y_train, 153),axis=1)\n",
        "  y_test_one_hot = tf.squeeze(tf.one_hot(y_test, 153),axis=1)\n",
        "  \n",
        "  W_conv1 = tf.Variable(tf.truncated_normal(shape=[5, 5, 3, 64], stddev=5e-2))\n",
        "  b_conv1 = tf.Variable(tf.constant(0.1, shape=[64]))\n",
        "  h_conv1 = tf.nn.relu(tf.nn.conv2d(X, W_conv1, strides=[1, 1, 1, 1], padding='SAME') + b_conv1)\n",
        "\n",
        "  # 첫번째 Pooling layer\n",
        "  h_pool1 = tf.nn.max_pool(h_conv1, ksize=[1, 3, 3, 1], strides=[1, 2, 2, 1], padding='SAME')\n",
        "\n",
        "  # 두번째 Convolutional layer - 32개의 특징들(feature)을 64개의 특징들로 맵핑.\n",
        "  W_conv2 = tf.Variable(tf.truncated_normal(shape=[5, 5, 64, 64], stddev=5e-2))\n",
        "  b_conv2 = tf.Variable(tf.constant(0.1, shape=[64]))\n",
        "  h_conv2 = tf.nn.relu(tf.nn.conv2d(h_pool1, W_conv2, strides=[1, 1, 1, 1], padding='SAME') + b_conv2)\n",
        "\n",
        "  # 두번째 Pooling layer.\n",
        "  h_pool2 = tf.nn.max_pool(h_conv2, ksize=[1, 3, 3, 1], strides=[1, 2, 2, 1], padding='SAME')\n",
        "\n",
        "  # 세번째 Convolutional layer\n",
        "  W_conv3 = tf.Variable(tf.truncated_normal(shape=[3, 3, 64, 128], stddev=5e-2))\n",
        "  b_conv3 = tf.Variable(tf.constant(0.1, shape=[128]))\n",
        "  h_conv3 = tf.nn.relu(tf.nn.conv2d(h_pool2, W_conv3, strides=[1, 1, 1, 1], padding='SAME') + b_conv3)\n",
        "\n",
        "  # 네번째 Convolutional layer\n",
        "  W_conv4 = tf.Variable(tf.truncated_normal(shape=[3, 3, 128, 128], stddev=5e-2))\n",
        "  b_conv4 = tf.Variable(tf.constant(0.1, shape=[128])) \n",
        "  h_conv4 = tf.nn.relu(tf.nn.conv2d(h_conv3, W_conv4, strides=[1, 1, 1, 1], padding='SAME') + b_conv4)\n",
        "\n",
        "  # 다섯번째 Convolutional layer\n",
        "  W_conv5 = tf.Variable(tf.truncated_normal(shape=[3, 3, 128, 128], stddev=5e-2))\n",
        "  b_conv5 = tf.Variable(tf.constant(0.1, shape=[128]))\n",
        "  h_conv5 = tf.nn.relu(tf.nn.conv2d(h_conv4, W_conv5, strides=[1, 1, 1, 1], padding='SAME') + b_conv5)\n",
        "\n",
        "  # Fully Connected Layer 1 - 2번의 Downsampling 이후, 32x32 이미지는 8x8x128 특징맵으로 형성됨\n",
        "  # 이를 384개의 특징들로 맵핑\n",
        "  W_fc1 = tf.Variable(tf.truncated_normal(shape=[8 * 8 * 128, 384], stddev=5e-2))\n",
        "  b_fc1 = tf.Variable(tf.constant(0.1, shape=[384]))\n",
        "\n",
        "  h_conv5_flat = tf.reshape(h_conv5, [-1, 8*8*128])\n",
        "  h_fc1 = tf.nn.relu(tf.matmul(h_conv5_flat, W_fc1) + b_fc1)\n",
        "\n",
        "  # Dropout - co-adaptation을 방지하기 위해 사용\n",
        "  h_fc1_drop = tf.nn.dropout(h_fc1, keep_prob) \n",
        "\n",
        "  # Fully Connected Layer 2 - 384개의 특징들을 153개의 클래스로 맵핑\n",
        "  W_fc2 = tf.Variable(tf.truncated_normal(shape=[384, 153], stddev=5e-2))\n",
        "  b_fc2 = tf.Variable(tf.constant(0.1, shape=[153]))\n",
        "  logits = tf.matmul(h_fc1_drop,W_fc2) + b_fc2\n",
        "  y_pred = tf.nn.softmax(logits)\n",
        "  \n",
        "  loss = tf.reduce_mean(tf.nn.softmax_cross_entropy_with_logits(labels=Y, logits=logits))\n",
        "  train_step = tf.train.RMSPropOptimizer(learning_rate).minimize(loss)\n",
        "\n",
        "  correct_prediction = tf.equal(tf.argmax(y_pred, 1), tf.argmax(Y, 1))\n",
        "  accuracy = tf.reduce_mean(tf.cast(correct_prediction, tf.float32))\n",
        "  \n",
        "  init = tf.global_variables_initializer()\n",
        "  saver = tf.train.Saver()"
      ],
      "execution_count": 0,
      "outputs": []
    },
    {
      "metadata": {
        "id": "PaTW9qknmjcF",
        "colab_type": "code",
        "colab": {}
      },
      "cell_type": "code",
      "source": [
        "cost_history=[]\n",
        "\n",
        "with tf.Session(graph=g1) as sess:\n",
        "    sess.run(init)\n",
        "    \n",
        "    for epoch in range(training_epochs):\n",
        "      batch=next_batch(1000,X_train,y_train_one_hot.eval())\n",
        "      \n",
        "      _,cost=sess.run([train_step,loss],feed_dict={X:batch[0],Y:batch[1],keep_prob:1.0}) # 드롭아웃이 없는 경우\n",
        "      cost_history.append(cost)\n",
        "    \n",
        "      sess.run(train_step, feed_dict={X: batch[0], Y: batch[1], keep_prob: 0.8}) # 드롭아웃 있는 경우로 재학습.\n",
        "    \n",
        "    \n",
        "    \n",
        "    \n",
        "\n",
        "    print('Test Accuracy: ',round(sess.run(accuracy,feed_dict={X:X_test,Y:y_test_one_hot.eval(),keep_prob:1.0}),5))\n",
        "    \n",
        "    saver.save(sess, \"ckpt/model_cnn.ckpt\") # CheckPoint File을 저장한다.\n",
        "    sess.close()\n",
        "    \n",
        "    \n",
        "plt.plot(cost_history)\n"
      ],
      "execution_count": 0,
      "outputs": []
    }
  ]
}